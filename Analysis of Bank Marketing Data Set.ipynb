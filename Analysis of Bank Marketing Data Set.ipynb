{
 "cells": [
  {
   "cell_type": "markdown",
   "metadata": {},
   "source": [
    "## Analysis of Bank Marketing Data set"
   ]
  },
  {
   "cell_type": "markdown",
   "metadata": {},
   "source": [
    "**Executive Summary**"
   ]
  },
  {
   "cell_type": "markdown",
   "metadata": {},
   "source": [
    "This analysis was performed as a solution to a data challenge as part of the interview process for the position of a data solutions analyst at Rocket Mortgage loans. The data set relates to the results of a bank marketing campaign to encourage clients to subscribe to a term deposit. The data included information on some client demographic variables, variables relating to extent of contact with the client and some economic variables. The task was to explore the data for patterns, evaluate the performance of an already deployed model and possibly come up with a model with a higher performance.\n",
    "\n",
    "The data set contains 41,188 rows and 22 columns of data, with 88% of the clients electing not to subscribe to a term deposit. the exploratory data analysis suggests that client's marital status and educational attainment have little to no effect on the probability of being subscribed to a term deposit. However, older clients and those who had previously subscribed to a term deposit following earlier marketing campaigns may be more likely to subscribe. Also, clients are less likely to subscribe to a term deposit when the consumer price index is higher. In other words, when inflation rises, assets such as term deposits tend to lose value as they are not protected against inflation. Hence, most people would rather invest in inflation-linked bonds or floating-rate coupon bonds or equities which tend to compensate for rising general prices of goods and services.\n",
    "\n",
    "In evaluating the deployed model, I can conclude that the model has a very low accuracy score and precision value. However, it has a high recall value, but then overall it has a low f1-score. By comparison, the simple logistic regression I built had a slightly higher f1-score and might be preferred to the deployed model."
   ]
  },
  {
   "cell_type": "markdown",
   "metadata": {},
   "source": [
    "**Importing Libraries**"
   ]
  },
  {
   "cell_type": "code",
   "execution_count": 1,
   "metadata": {},
   "outputs": [],
   "source": [
    "# Importing basic useful libraries\n",
    "import pandas as pd\n",
    "import numpy as np\n",
    "import matplotlib.pyplot as plt\n",
    "import seaborn as sns\n",
    "%matplotlib inline"
   ]
  },
  {
   "cell_type": "markdown",
   "metadata": {},
   "source": [
    "**Loading and eyeballing the data set**"
   ]
  },
  {
   "cell_type": "code",
   "execution_count": 2,
   "metadata": {},
   "outputs": [],
   "source": [
    "# Reading in the bank marketing campaign data set (in a csv file) into a pandas dataframe\n",
    "Marketing_data = pd.read_csv('DSA Data Set.csv')"
   ]
  },
  {
   "cell_type": "code",
   "execution_count": 3,
   "metadata": {},
   "outputs": [
    {
     "data": {
      "text/html": [
       "<div>\n",
       "<style scoped>\n",
       "    .dataframe tbody tr th:only-of-type {\n",
       "        vertical-align: middle;\n",
       "    }\n",
       "\n",
       "    .dataframe tbody tr th {\n",
       "        vertical-align: top;\n",
       "    }\n",
       "\n",
       "    .dataframe thead th {\n",
       "        text-align: right;\n",
       "    }\n",
       "</style>\n",
       "<table border=\"1\" class=\"dataframe\">\n",
       "  <thead>\n",
       "    <tr style=\"text-align: right;\">\n",
       "      <th></th>\n",
       "      <th>age</th>\n",
       "      <th>job</th>\n",
       "      <th>marital</th>\n",
       "      <th>education</th>\n",
       "      <th>default</th>\n",
       "      <th>housing</th>\n",
       "      <th>loan</th>\n",
       "      <th>contact</th>\n",
       "      <th>month</th>\n",
       "      <th>day_of_week</th>\n",
       "      <th>...</th>\n",
       "      <th>pdays</th>\n",
       "      <th>previous</th>\n",
       "      <th>poutcome</th>\n",
       "      <th>emp.var.rate</th>\n",
       "      <th>cons.price.idx</th>\n",
       "      <th>cons.conf.idx</th>\n",
       "      <th>euribor3m</th>\n",
       "      <th>nr.employed</th>\n",
       "      <th>ModelPrediction</th>\n",
       "      <th>y</th>\n",
       "    </tr>\n",
       "  </thead>\n",
       "  <tbody>\n",
       "    <tr>\n",
       "      <td>0</td>\n",
       "      <td>56</td>\n",
       "      <td>housemaid</td>\n",
       "      <td>married</td>\n",
       "      <td>basic.4y</td>\n",
       "      <td>no</td>\n",
       "      <td>no</td>\n",
       "      <td>no</td>\n",
       "      <td>telephone</td>\n",
       "      <td>may</td>\n",
       "      <td>mon</td>\n",
       "      <td>...</td>\n",
       "      <td>999</td>\n",
       "      <td>0</td>\n",
       "      <td>nonexistent</td>\n",
       "      <td>1.1</td>\n",
       "      <td>93.994</td>\n",
       "      <td>-36.4</td>\n",
       "      <td>4.857</td>\n",
       "      <td>5191.0</td>\n",
       "      <td>0.932750</td>\n",
       "      <td>no</td>\n",
       "    </tr>\n",
       "    <tr>\n",
       "      <td>1</td>\n",
       "      <td>57</td>\n",
       "      <td>services</td>\n",
       "      <td>married</td>\n",
       "      <td>high.school</td>\n",
       "      <td>unknown</td>\n",
       "      <td>no</td>\n",
       "      <td>no</td>\n",
       "      <td>telephone</td>\n",
       "      <td>may</td>\n",
       "      <td>mon</td>\n",
       "      <td>...</td>\n",
       "      <td>999</td>\n",
       "      <td>0</td>\n",
       "      <td>nonexistent</td>\n",
       "      <td>1.1</td>\n",
       "      <td>93.994</td>\n",
       "      <td>-36.4</td>\n",
       "      <td>4.857</td>\n",
       "      <td>5191.0</td>\n",
       "      <td>0.953579</td>\n",
       "      <td>no</td>\n",
       "    </tr>\n",
       "    <tr>\n",
       "      <td>2</td>\n",
       "      <td>37</td>\n",
       "      <td>services</td>\n",
       "      <td>married</td>\n",
       "      <td>high.school</td>\n",
       "      <td>no</td>\n",
       "      <td>yes</td>\n",
       "      <td>no</td>\n",
       "      <td>telephone</td>\n",
       "      <td>may</td>\n",
       "      <td>mon</td>\n",
       "      <td>...</td>\n",
       "      <td>999</td>\n",
       "      <td>0</td>\n",
       "      <td>nonexistent</td>\n",
       "      <td>1.1</td>\n",
       "      <td>93.994</td>\n",
       "      <td>-36.4</td>\n",
       "      <td>4.857</td>\n",
       "      <td>5191.0</td>\n",
       "      <td>0.945724</td>\n",
       "      <td>no</td>\n",
       "    </tr>\n",
       "    <tr>\n",
       "      <td>3</td>\n",
       "      <td>40</td>\n",
       "      <td>admin.</td>\n",
       "      <td>married</td>\n",
       "      <td>basic.6y</td>\n",
       "      <td>no</td>\n",
       "      <td>no</td>\n",
       "      <td>no</td>\n",
       "      <td>telephone</td>\n",
       "      <td>may</td>\n",
       "      <td>mon</td>\n",
       "      <td>...</td>\n",
       "      <td>999</td>\n",
       "      <td>0</td>\n",
       "      <td>nonexistent</td>\n",
       "      <td>1.1</td>\n",
       "      <td>93.994</td>\n",
       "      <td>-36.4</td>\n",
       "      <td>4.857</td>\n",
       "      <td>5191.0</td>\n",
       "      <td>0.933875</td>\n",
       "      <td>no</td>\n",
       "    </tr>\n",
       "    <tr>\n",
       "      <td>4</td>\n",
       "      <td>56</td>\n",
       "      <td>services</td>\n",
       "      <td>married</td>\n",
       "      <td>high.school</td>\n",
       "      <td>no</td>\n",
       "      <td>no</td>\n",
       "      <td>yes</td>\n",
       "      <td>telephone</td>\n",
       "      <td>may</td>\n",
       "      <td>mon</td>\n",
       "      <td>...</td>\n",
       "      <td>999</td>\n",
       "      <td>0</td>\n",
       "      <td>nonexistent</td>\n",
       "      <td>1.1</td>\n",
       "      <td>93.994</td>\n",
       "      <td>-36.4</td>\n",
       "      <td>4.857</td>\n",
       "      <td>5191.0</td>\n",
       "      <td>0.940996</td>\n",
       "      <td>no</td>\n",
       "    </tr>\n",
       "  </tbody>\n",
       "</table>\n",
       "<p>5 rows × 22 columns</p>\n",
       "</div>"
      ],
      "text/plain": [
       "   age        job  marital    education  default housing loan    contact  \\\n",
       "0   56  housemaid  married     basic.4y       no      no   no  telephone   \n",
       "1   57   services  married  high.school  unknown      no   no  telephone   \n",
       "2   37   services  married  high.school       no     yes   no  telephone   \n",
       "3   40     admin.  married     basic.6y       no      no   no  telephone   \n",
       "4   56   services  married  high.school       no      no  yes  telephone   \n",
       "\n",
       "  month day_of_week  ...  pdays  previous     poutcome  emp.var.rate  \\\n",
       "0   may         mon  ...    999         0  nonexistent           1.1   \n",
       "1   may         mon  ...    999         0  nonexistent           1.1   \n",
       "2   may         mon  ...    999         0  nonexistent           1.1   \n",
       "3   may         mon  ...    999         0  nonexistent           1.1   \n",
       "4   may         mon  ...    999         0  nonexistent           1.1   \n",
       "\n",
       "  cons.price.idx  cons.conf.idx  euribor3m  nr.employed  ModelPrediction   y  \n",
       "0         93.994          -36.4      4.857       5191.0         0.932750  no  \n",
       "1         93.994          -36.4      4.857       5191.0         0.953579  no  \n",
       "2         93.994          -36.4      4.857       5191.0         0.945724  no  \n",
       "3         93.994          -36.4      4.857       5191.0         0.933875  no  \n",
       "4         93.994          -36.4      4.857       5191.0         0.940996  no  \n",
       "\n",
       "[5 rows x 22 columns]"
      ]
     },
     "execution_count": 3,
     "metadata": {},
     "output_type": "execute_result"
    }
   ],
   "source": [
    "# Eyeballing the data\n",
    "Marketing_data.head()"
   ]
  },
  {
   "cell_type": "code",
   "execution_count": 4,
   "metadata": {},
   "outputs": [
    {
     "name": "stdout",
     "output_type": "stream",
     "text": [
      "<class 'pandas.core.frame.DataFrame'>\n",
      "RangeIndex: 41188 entries, 0 to 41187\n",
      "Data columns (total 22 columns):\n",
      "age                41188 non-null int64\n",
      "job                41188 non-null object\n",
      "marital            41188 non-null object\n",
      "education          41188 non-null object\n",
      "default            41188 non-null object\n",
      "housing            41188 non-null object\n",
      "loan               41188 non-null object\n",
      "contact            41188 non-null object\n",
      "month              41188 non-null object\n",
      "day_of_week        41188 non-null object\n",
      "duration           41188 non-null int64\n",
      "campaign           41188 non-null int64\n",
      "pdays              41188 non-null int64\n",
      "previous           41188 non-null int64\n",
      "poutcome           41188 non-null object\n",
      "emp.var.rate       41188 non-null float64\n",
      "cons.price.idx     41188 non-null float64\n",
      "cons.conf.idx      41188 non-null float64\n",
      "euribor3m          41188 non-null float64\n",
      "nr.employed        41188 non-null float64\n",
      "ModelPrediction    41188 non-null float64\n",
      "y                  41188 non-null object\n",
      "dtypes: float64(6), int64(5), object(11)\n",
      "memory usage: 6.9+ MB\n"
     ]
    }
   ],
   "source": [
    "# Checking details of the data, like number of rows, columns and variable data types\n",
    "Marketing_data.info()"
   ]
  },
  {
   "cell_type": "markdown",
   "metadata": {},
   "source": [
    "The summary above confirms that the data set contains 41,188 rows and 22 columns of data. I can also confirm that all the variables are of the correct data type, with continuous numerous variables represented as floats, discrete numeric variables represented as integer data type and categorical variables represented as object data type. The summary above also suggests that there are no missing values in the data set."
   ]
  },
  {
   "cell_type": "markdown",
   "metadata": {},
   "source": [
    "**Exploratory Data Analysis**"
   ]
  },
  {
   "cell_type": "code",
   "execution_count": 5,
   "metadata": {},
   "outputs": [
    {
     "data": {
      "text/plain": [
       "<matplotlib.axes._subplots.AxesSubplot at 0x2dd1cff3988>"
      ]
     },
     "execution_count": 5,
     "metadata": {},
     "output_type": "execute_result"
    },
    {
     "data": {
      "image/png": "[encoded data removed]",
      "text/plain": [
       "<Figure size 432x288 with 1 Axes>"
      ]
     },
     "metadata": {
      "needs_background": "light"
     },
     "output_type": "display_data"
    }
   ],
   "source": [
    "# Checking for missing values by creating a simple heatmap of the data\n",
    "\n",
    "sns.heatmap(Marketing_data.isnull(),yticklabels=False,cbar=False,cmap='viridis')"
   ]
  },
  {
   "cell_type": "markdown",
   "metadata": {},
   "source": [
    "As expected the heatmap is blank indicating that there are no missing values in the data set.\n",
    "\n",
    "Next, I would make more plots to explore patterns in the data."
   ]
  },
  {
   "cell_type": "markdown",
   "metadata": {},
   "source": [
    "First, I would like to examine the frequency distribution of the response variable y, which represents whether a client subscribed to a term deposit or not."
   ]
  },
  {
   "cell_type": "code",
   "execution_count": 6,
   "metadata": {},
   "outputs": [
    {
     "data": {
      "image/png": "[encoded data removed]",
      "text/plain": [
       "<Figure size 432x288 with 1 Axes>"
      ]
     },
     "metadata": {},
     "output_type": "display_data"
    }
   ],
   "source": [
    "# A simple count plot in the Seaborn package can help produce a barplot of the response variable\n",
    "\n",
    "sns.set_style('whitegrid')\n",
    "Plot_resp = sns.countplot(x='y',data=Marketing_data,palette='Dark2')\n",
    "Plot_resp.set_xlabel('Whether client subscribed to a term deposit',fontsize=15);\n",
    "Plot_resp.set_ylabel('Frequency',fontsize=15)\n",
    "\n",
    "plt.savefig('Plot_y', dpi = 600)"
   ]
  },
  {
   "cell_type": "code",
   "execution_count": 7,
   "metadata": {},
   "outputs": [
    {
     "data": {
      "text/plain": [
       "no     36548\n",
       "yes     4640\n",
       "Name: y, dtype: int64"
      ]
     },
     "execution_count": 7,
     "metadata": {},
     "output_type": "execute_result"
    }
   ],
   "source": [
    "# I can also check to see the actual counts of each response variable category as follows\n",
    "\n",
    "Marketing_data['y'].value_counts()"
   ]
  },
  {
   "cell_type": "markdown",
   "metadata": {},
   "source": [
    "So far, we can conclude that most of the clients contacted during the marketing campaign opted not to subscribe to a term deposit.\n",
    "\n",
    "Next, I would try to make plots that explore the relationship between the response variable and some of the explanatory variables."
   ]
  },
  {
   "cell_type": "code",
   "execution_count": 8,
   "metadata": {},
   "outputs": [
    {
     "data": {
      "image/png": "[encoded data removed]",
      "text/plain": [
       "<Figure size 432x288 with 1 Axes>"
      ]
     },
     "metadata": {},
     "output_type": "display_data"
    }
   ],
   "source": [
    "# Examining the distribution of the response variable grouped by client's occupation\n",
    "\n",
    "ploty_job = sns.countplot(x='y', hue='job', data=Marketing_data, palette='Dark2')\n",
    "ploty_job.set_xlabel('Whether client subscribed to a term deposit',fontsize=15);\n",
    "ploty_job.set_ylabel('Frequency',fontsize=15)\n",
    "\n",
    "plt.savefig('ploty_job', dpi = 600)"
   ]
  },
  {
   "cell_type": "markdown",
   "metadata": {},
   "source": [
    "The plot above shows a somewhat similar distribution of clients that subscribed to a term deposit and those that did not when accounting for differences in occupational groups. Clients in admin roles are the most likely to subscribe to a term deposit and are also the most likely not to subscribe."
   ]
  },
  {
   "cell_type": "code",
   "execution_count": 9,
   "metadata": {},
   "outputs": [
    {
     "data": {
      "image/png": "[encoded data removed]",
      "text/plain": [
       "<Figure size 432x288 with 1 Axes>"
      ]
     },
     "metadata": {},
     "output_type": "display_data"
    }
   ],
   "source": [
    "# Examining the distribution of the response variable grouped by client's educational attainment\n",
    "\n",
    "ploty_job = sns.countplot(x='y', hue='education', data=Marketing_data, palette='Dark2')\n",
    "ploty_job.set_xlabel('Whether client subscribed to a term deposit',fontsize=15);\n",
    "ploty_job.set_ylabel('Frequency',fontsize=15)\n",
    "\n",
    "plt.savefig('ploty_edu', dpi = 600)"
   ]
  },
  {
   "cell_type": "markdown",
   "metadata": {},
   "source": [
    "Similarly, clients with university degrees are the largest group of those that subscribed and those that did not."
   ]
  },
  {
   "cell_type": "code",
   "execution_count": 10,
   "metadata": {},
   "outputs": [
    {
     "data": {
      "image/png": "[encoded data removed]",
      "text/plain": [
       "<Figure size 432x288 with 1 Axes>"
      ]
     },
     "metadata": {},
     "output_type": "display_data"
    }
   ],
   "source": [
    "# Examining the distribution of the response variable grouped by client's marital status\n",
    "\n",
    "ploty_job = sns.countplot(x='y', hue='marital', data=Marketing_data, palette='Dark2')\n",
    "ploty_job.set_xlabel('Whether client subscribed to a term deposit',fontsize=15);\n",
    "ploty_job.set_ylabel('Frequency',fontsize=15)\n",
    "\n",
    "plt.savefig('ploty_marital', dpi = 600)"
   ]
  },
  {
   "cell_type": "markdown",
   "metadata": {},
   "source": [
    "Also, it appears marital status isn't a significant predictor of whether a client would subscribe or not subscribe to a term deposit."
   ]
  },
  {
   "cell_type": "code",
   "execution_count": 11,
   "metadata": {},
   "outputs": [
    {
     "data": {
      "image/png": "[encoded data removed]",
      "text/plain": [
       "<Figure size 432x288 with 1 Axes>"
      ]
     },
     "metadata": {},
     "output_type": "display_data"
    }
   ],
   "source": [
    "# Examining the distribution of the response variable grouped by outcome of the previous marketing campaign\n",
    "\n",
    "ploty_poutcome = sns.countplot(x='y', hue='poutcome', data=Marketing_data, palette='Dark2')\n",
    "ploty_poutcome.set_xlabel('Whether client subscribed to a term deposit',fontsize=15);\n",
    "ploty_poutcome.set_ylabel('Frequency',fontsize=15)\n",
    "\n",
    "plt.savefig('ploty_poutcome', dpi = 600)\n"
   ]
  },
  {
   "cell_type": "markdown",
   "metadata": {},
   "source": [
    "The plot above shows that clients who subscribed following the previous marketing campaign are more likely to subscribe again following the current campaign."
   ]
  },
  {
   "cell_type": "code",
   "execution_count": 12,
   "metadata": {},
   "outputs": [
    {
     "data": {
      "image/png": "[encoded data removed]",
      "text/plain": [
       "<Figure size 432x288 with 1 Axes>"
      ]
     },
     "metadata": {},
     "output_type": "display_data"
    }
   ],
   "source": [
    "# Examining the age distribution of clients based on their response to the marketing campaign\n",
    "\n",
    "ploty_age = sns.boxplot(x=\"y\", y=\"age\", data=Marketing_data,palette='Dark2')\n",
    "ploty_age.set_xlabel('Whether client subscribed to a term deposit',fontsize=15);\n",
    "ploty_age.set_ylabel('Age',fontsize=15)\n",
    "\n",
    "plt.savefig('ploty_age', dpi = 600)"
   ]
  },
  {
   "cell_type": "markdown",
   "metadata": {},
   "source": [
    "With the median age of both response groups fairly equal, it appears age is not a significant predictor of whether a client subscribes to a term deposit. Although, it appears much older clients might be more inclined to subscribe due to higher 75 percent percentile and maximum age for the subscribed category."
   ]
  },
  {
   "cell_type": "markdown",
   "metadata": {},
   "source": [
    "We can plot a histogram of client ages as follows:"
   ]
  },
  {
   "cell_type": "code",
   "execution_count": 14,
   "metadata": {},
   "outputs": [
    {
     "data": {
      "image/png": "[encoded data removed]",
      "text/plain": [
       "<Figure size 432x288 with 1 Axes>"
      ]
     },
     "metadata": {},
     "output_type": "display_data"
    }
   ],
   "source": [
    "# Histogram of client ages\n",
    "\n",
    "plot_age = Marketing_data['age'].plot.hist()\n",
    "plot_age.set_xlabel('Age',fontsize=15);\n",
    "plot_age.set_ylabel('Frequency',fontsize=15)\n",
    "\n",
    "plt.savefig('plot_age', dpi = 600)\n"
   ]
  },
  {
   "cell_type": "markdown",
   "metadata": {},
   "source": [
    "The histogram indicates that most of the clients surveyed are about 40 years old."
   ]
  },
  {
   "cell_type": "code",
   "execution_count": 15,
   "metadata": {},
   "outputs": [
    {
     "data": {
      "image/png": "[encoded data removed]",
      "text/plain": [
       "<Figure size 432x288 with 1 Axes>"
      ]
     },
     "metadata": {},
     "output_type": "display_data"
    }
   ],
   "source": [
    "# Examining the age distribution of clients based on their response to the marketing campaign\n",
    "\n",
    "ploty_infl = sns.boxplot(x=\"y\", y=\"cons.price.idx\", data=Marketing_data,palette='Dark2')\n",
    "ploty_infl.set_xlabel('Whether client subscribed to a term deposit',fontsize=15);\n",
    "ploty_infl.set_ylabel('Consumer Price Index (CPI)',fontsize=15)\n",
    "\n",
    "plt.savefig('ploty_infl', dpi = 600)"
   ]
  },
  {
   "cell_type": "markdown",
   "metadata": {},
   "source": [
    "The boxplot above suggests that clients are more likely to subscribe to a term deposit when the consumer price index is lower rather than higher. The consumer price index is a measure of inflation and an inflationary environment tend to favor borrowers rather than savers."
   ]
  },
  {
   "cell_type": "markdown",
   "metadata": {},
   "source": [
    "**Data cleaning**"
   ]
  },
  {
   "cell_type": "markdown",
   "metadata": {},
   "source": [
    "Now, I would try to clean the data before modelling the relationship between the tendency of clients to be receptive of the marketing campaign (that is to subscribe to a term deposit) and 20 possible explanatory variables.\n",
    "\n",
    "First, as the question specifies that last contact duration (duration variable) isn't known in advance and to avoid look ahead bias has to be dropped."
   ]
  },
  {
   "cell_type": "code",
   "execution_count": 16,
   "metadata": {},
   "outputs": [],
   "source": [
    "# Dropping the duration variable\n",
    "\n",
    "Marketing_data.drop('duration',axis=1,inplace=True)"
   ]
  },
  {
   "cell_type": "markdown",
   "metadata": {},
   "source": [
    "Next, I would like to transform the binary response variable into zeros and ones, with ones for yes and zeros for no.\n",
    "\n",
    "First, I would create a simple function to do that and then apply that function to each row of data."
   ]
  },
  {
   "cell_type": "code",
   "execution_count": 17,
   "metadata": {},
   "outputs": [],
   "source": [
    "# Defining a function to transform binary response variable into zeros and ones\n",
    "\n",
    "def trans_bin(x):\n",
    "    if x == 'yes':\n",
    "        return 1\n",
    "    else:\n",
    "        return 0"
   ]
  },
  {
   "cell_type": "code",
   "execution_count": 18,
   "metadata": {},
   "outputs": [],
   "source": [
    "# Adding a new column to represent the binary response variable coded as zeros and ones\n",
    "\n",
    "Marketing_data['y_response'] = Marketing_data['y'].apply(trans_bin)"
   ]
  },
  {
   "cell_type": "markdown",
   "metadata": {},
   "source": [
    "Also, the categorical variables - default, housing and loan have similar outputs, and to avoid confusion I decided to modify their outputs to reflect which particular variable it belongs."
   ]
  },
  {
   "cell_type": "code",
   "execution_count": 19,
   "metadata": {},
   "outputs": [],
   "source": [
    "Marketing_data['default_new'] = 'default' + '_' + Marketing_data['default']\n",
    "Marketing_data['housing_new'] = 'housing' + '_' + Marketing_data['housing']\n",
    "Marketing_data['loan_new'] = 'loan' + '_' + Marketing_data['loan']"
   ]
  },
  {
   "cell_type": "markdown",
   "metadata": {},
   "source": [
    "Next, I would like to drop some other columns to reduce redundancy. For example, there are only three rows of data for clients with credit in default, hence that variable wouldn't have much impact on the response variable. Also the variable - campaign includes information contained in the variable - previous. Hence, it makes sense to drop 'previous' to avoid multicollinearity. "
   ]
  },
  {
   "cell_type": "code",
   "execution_count": 20,
   "metadata": {},
   "outputs": [],
   "source": [
    "# Dropping some column variables\n",
    "\n",
    "Marketing_data.drop(['default','default_new','housing','loan', 'previous'],axis=1,inplace=True)"
   ]
  },
  {
   "cell_type": "code",
   "execution_count": 21,
   "metadata": {},
   "outputs": [
    {
     "data": {
      "text/html": [
       "<div>\n",
       "<style scoped>\n",
       "    .dataframe tbody tr th:only-of-type {\n",
       "        vertical-align: middle;\n",
       "    }\n",
       "\n",
       "    .dataframe tbody tr th {\n",
       "        vertical-align: top;\n",
       "    }\n",
       "\n",
       "    .dataframe thead th {\n",
       "        text-align: right;\n",
       "    }\n",
       "</style>\n",
       "<table border=\"1\" class=\"dataframe\">\n",
       "  <thead>\n",
       "    <tr style=\"text-align: right;\">\n",
       "      <th></th>\n",
       "      <th>age</th>\n",
       "      <th>job</th>\n",
       "      <th>marital</th>\n",
       "      <th>education</th>\n",
       "      <th>contact</th>\n",
       "      <th>month</th>\n",
       "      <th>day_of_week</th>\n",
       "      <th>campaign</th>\n",
       "      <th>pdays</th>\n",
       "      <th>poutcome</th>\n",
       "      <th>emp.var.rate</th>\n",
       "      <th>cons.price.idx</th>\n",
       "      <th>cons.conf.idx</th>\n",
       "      <th>euribor3m</th>\n",
       "      <th>nr.employed</th>\n",
       "      <th>ModelPrediction</th>\n",
       "      <th>y</th>\n",
       "      <th>y_response</th>\n",
       "      <th>housing_new</th>\n",
       "      <th>loan_new</th>\n",
       "    </tr>\n",
       "  </thead>\n",
       "  <tbody>\n",
       "    <tr>\n",
       "      <td>0</td>\n",
       "      <td>56</td>\n",
       "      <td>housemaid</td>\n",
       "      <td>married</td>\n",
       "      <td>basic.4y</td>\n",
       "      <td>telephone</td>\n",
       "      <td>may</td>\n",
       "      <td>mon</td>\n",
       "      <td>1</td>\n",
       "      <td>999</td>\n",
       "      <td>nonexistent</td>\n",
       "      <td>1.1</td>\n",
       "      <td>93.994</td>\n",
       "      <td>-36.4</td>\n",
       "      <td>4.857</td>\n",
       "      <td>5191.0</td>\n",
       "      <td>0.932750</td>\n",
       "      <td>no</td>\n",
       "      <td>0</td>\n",
       "      <td>housing_no</td>\n",
       "      <td>loan_no</td>\n",
       "    </tr>\n",
       "    <tr>\n",
       "      <td>1</td>\n",
       "      <td>57</td>\n",
       "      <td>services</td>\n",
       "      <td>married</td>\n",
       "      <td>high.school</td>\n",
       "      <td>telephone</td>\n",
       "      <td>may</td>\n",
       "      <td>mon</td>\n",
       "      <td>1</td>\n",
       "      <td>999</td>\n",
       "      <td>nonexistent</td>\n",
       "      <td>1.1</td>\n",
       "      <td>93.994</td>\n",
       "      <td>-36.4</td>\n",
       "      <td>4.857</td>\n",
       "      <td>5191.0</td>\n",
       "      <td>0.953579</td>\n",
       "      <td>no</td>\n",
       "      <td>0</td>\n",
       "      <td>housing_no</td>\n",
       "      <td>loan_no</td>\n",
       "    </tr>\n",
       "    <tr>\n",
       "      <td>2</td>\n",
       "      <td>37</td>\n",
       "      <td>services</td>\n",
       "      <td>married</td>\n",
       "      <td>high.school</td>\n",
       "      <td>telephone</td>\n",
       "      <td>may</td>\n",
       "      <td>mon</td>\n",
       "      <td>1</td>\n",
       "      <td>999</td>\n",
       "      <td>nonexistent</td>\n",
       "      <td>1.1</td>\n",
       "      <td>93.994</td>\n",
       "      <td>-36.4</td>\n",
       "      <td>4.857</td>\n",
       "      <td>5191.0</td>\n",
       "      <td>0.945724</td>\n",
       "      <td>no</td>\n",
       "      <td>0</td>\n",
       "      <td>housing_yes</td>\n",
       "      <td>loan_no</td>\n",
       "    </tr>\n",
       "    <tr>\n",
       "      <td>3</td>\n",
       "      <td>40</td>\n",
       "      <td>admin.</td>\n",
       "      <td>married</td>\n",
       "      <td>basic.6y</td>\n",
       "      <td>telephone</td>\n",
       "      <td>may</td>\n",
       "      <td>mon</td>\n",
       "      <td>1</td>\n",
       "      <td>999</td>\n",
       "      <td>nonexistent</td>\n",
       "      <td>1.1</td>\n",
       "      <td>93.994</td>\n",
       "      <td>-36.4</td>\n",
       "      <td>4.857</td>\n",
       "      <td>5191.0</td>\n",
       "      <td>0.933875</td>\n",
       "      <td>no</td>\n",
       "      <td>0</td>\n",
       "      <td>housing_no</td>\n",
       "      <td>loan_no</td>\n",
       "    </tr>\n",
       "    <tr>\n",
       "      <td>4</td>\n",
       "      <td>56</td>\n",
       "      <td>services</td>\n",
       "      <td>married</td>\n",
       "      <td>high.school</td>\n",
       "      <td>telephone</td>\n",
       "      <td>may</td>\n",
       "      <td>mon</td>\n",
       "      <td>1</td>\n",
       "      <td>999</td>\n",
       "      <td>nonexistent</td>\n",
       "      <td>1.1</td>\n",
       "      <td>93.994</td>\n",
       "      <td>-36.4</td>\n",
       "      <td>4.857</td>\n",
       "      <td>5191.0</td>\n",
       "      <td>0.940996</td>\n",
       "      <td>no</td>\n",
       "      <td>0</td>\n",
       "      <td>housing_no</td>\n",
       "      <td>loan_yes</td>\n",
       "    </tr>\n",
       "  </tbody>\n",
       "</table>\n",
       "</div>"
      ],
      "text/plain": [
       "   age        job  marital    education    contact month day_of_week  \\\n",
       "0   56  housemaid  married     basic.4y  telephone   may         mon   \n",
       "1   57   services  married  high.school  telephone   may         mon   \n",
       "2   37   services  married  high.school  telephone   may         mon   \n",
       "3   40     admin.  married     basic.6y  telephone   may         mon   \n",
       "4   56   services  married  high.school  telephone   may         mon   \n",
       "\n",
       "   campaign  pdays     poutcome  emp.var.rate  cons.price.idx  cons.conf.idx  \\\n",
       "0         1    999  nonexistent           1.1          93.994          -36.4   \n",
       "1         1    999  nonexistent           1.1          93.994          -36.4   \n",
       "2         1    999  nonexistent           1.1          93.994          -36.4   \n",
       "3         1    999  nonexistent           1.1          93.994          -36.4   \n",
       "4         1    999  nonexistent           1.1          93.994          -36.4   \n",
       "\n",
       "   euribor3m  nr.employed  ModelPrediction   y  y_response  housing_new  \\\n",
       "0      4.857       5191.0         0.932750  no           0   housing_no   \n",
       "1      4.857       5191.0         0.953579  no           0   housing_no   \n",
       "2      4.857       5191.0         0.945724  no           0  housing_yes   \n",
       "3      4.857       5191.0         0.933875  no           0   housing_no   \n",
       "4      4.857       5191.0         0.940996  no           0   housing_no   \n",
       "\n",
       "   loan_new  \n",
       "0   loan_no  \n",
       "1   loan_no  \n",
       "2   loan_no  \n",
       "3   loan_no  \n",
       "4  loan_yes  "
      ]
     },
     "execution_count": 21,
     "metadata": {},
     "output_type": "execute_result"
    }
   ],
   "source": [
    "# Checking to see what the data looks like now\n",
    "\n",
    "Marketing_data.head()"
   ]
  },
  {
   "cell_type": "markdown",
   "metadata": {},
   "source": [
    "**Evaluating performance of the deployed model**"
   ]
  },
  {
   "cell_type": "markdown",
   "metadata": {},
   "source": [
    "Before any further cleaning, I'd like to evaluate performance of the current model based on a classication report and a confusion matrix. But first, the numeric model prediction values have to be transformed into a binary response type zeros and ones."
   ]
  },
  {
   "cell_type": "code",
   "execution_count": 22,
   "metadata": {},
   "outputs": [],
   "source": [
    "# Creating a function to encode prediction probabilities greater than 0.5 as one, and those not as zero\n",
    "\n",
    "def trans_prob(x):\n",
    "    if x > 0.5:\n",
    "        return 1\n",
    "    else:\n",
    "        return 0"
   ]
  },
  {
   "cell_type": "code",
   "execution_count": 23,
   "metadata": {},
   "outputs": [],
   "source": [
    "# Applying the function to create a new column of model predictions\n",
    "\n",
    "Marketing_data['ModelPrediction2'] = Marketing_data['ModelPrediction'].apply(trans_prob)"
   ]
  },
  {
   "cell_type": "code",
   "execution_count": 24,
   "metadata": {},
   "outputs": [
    {
     "name": "stdout",
     "output_type": "stream",
     "text": [
      "              precision    recall  f1-score   support\n",
      "\n",
      "           0       0.27      0.01      0.01     36548\n",
      "           1       0.10      0.85      0.18      4640\n",
      "\n",
      "    accuracy                           0.10     41188\n",
      "   macro avg       0.19      0.43      0.10     41188\n",
      "weighted avg       0.25      0.10      0.03     41188\n",
      "\n"
     ]
    }
   ],
   "source": [
    "# Importing the classification_report function\n",
    "\n",
    "from sklearn.metrics import classification_report\n",
    "\n",
    "# Printing the classification report\n",
    "\n",
    "print(classification_report(Marketing_data['y_response'], Marketing_data['ModelPrediction2']))"
   ]
  },
  {
   "cell_type": "code",
   "execution_count": 25,
   "metadata": {},
   "outputs": [
    {
     "name": "stdout",
     "output_type": "stream",
     "text": [
      "[[  257 36291]\n",
      " [  680  3960]]\n"
     ]
    }
   ],
   "source": [
    "# Importing the confusion matrix function\n",
    "\n",
    "from sklearn.metrics import confusion_matrix\n",
    "\n",
    "# Printing the confusion matrix\n",
    "\n",
    "print(confusion_matrix(Marketing_data['y_response'], Marketing_data['ModelPrediction2']))"
   ]
  },
  {
   "cell_type": "code",
   "execution_count": 48,
   "metadata": {},
   "outputs": [
    {
     "name": "stdout",
     "output_type": "stream",
     "text": [
      "0.1023841895697776\n"
     ]
    }
   ],
   "source": [
    "# Estimating classification accuracy: percentage of correct predictions\n",
    "\n",
    "from sklearn import metrics\n",
    "\n",
    "print(metrics.accuracy_score(Marketing_data['y_response'], Marketing_data['ModelPrediction2']))"
   ]
  },
  {
   "cell_type": "code",
   "execution_count": 49,
   "metadata": {},
   "outputs": [
    {
     "data": {
      "text/plain": [
       "0.8873458288821987"
      ]
     },
     "execution_count": 49,
     "metadata": {},
     "output_type": "execute_result"
    }
   ],
   "source": [
    "# Estimating null accuracy value\n",
    "\n",
    "max(Marketing_data['y_response'].mean(), 1 - Marketing_data['y_response'].mean())"
   ]
  },
  {
   "cell_type": "markdown",
   "metadata": {},
   "source": [
    "*Interpreting classication accuracy*"
   ]
  },
  {
   "cell_type": "markdown",
   "metadata": {},
   "source": [
    "The classication accuracy score estimates the percentage of correct predictions of both yes and no for the response variable. The estimate above suggests a very low accuracy for the deployed model. But this accuracy value of 10% has to be compared to the null accuracy value. The null accuracy value is the accuracy that would result from predicting the dominant class 100% of the time. In other words, what is the best we can do without any model. The null accuracy value of 88.7% suggests that we might be better off overall without the model since the null model has a far higher accuracy.\n",
    "\n",
    "However, the accuracy value can be grossly misleading, particularly for unbalanced data sets, such as the bank marketing data set, with far greater number of zeros then ones. This is because the null model while having a higher accuracy would certainly be wrong in predicting the probability of a yes outcome, while the deployed model would be correct on some occasions, which leads me to the consideration of other model evaluation metrics such as precision, recall and f1-score."
   ]
  },
  {
   "cell_type": "markdown",
   "metadata": {},
   "source": [
    "*Interpreting model precision, recall and f1-score from the classication report and confusion matrix*"
   ]
  },
  {
   "cell_type": "markdown",
   "metadata": {},
   "source": [
    "The confusion matrix indicates that the deployed model correctly predicted yes and no, 3960 and 257 times respectively; while incorrectly predicting yes and no, 36291 and 680 times respectively. These values are referred to as True Positives (TP), True Negatives (TN), False Positives (FP) and False Negatives (FN). \n",
    "\n",
    "However, these numbers are best applied in the context of total predictions made using metrics such as precision, recall and f1-score.\n",
    "\n",
    "As we are more interested in the tendency of a client subscribing to a term deposit following a marketing campaign, I would focus my interpretation of these metrics for yes predictions by the deployed model.\n",
    "\n",
    "Precision is a measure of how often the prediction is correct when a yes is predicted. The classification report suggests a low precision value of 0.1. Recall is a measure of how often the prediction is correct when the actual value is yes. Conversely, the classification report indicate a high recall value of 0.85 for the deployed model. \n",
    "\n",
    "Finally, since there is a conflict between both precision and recall and having high values for both is desired, the f1-score is also considered as a model evaluation metric. The f1-score is the weighted harmonic mean of both precision and recall. The classification report indicate a low f1-score of 0.18.\n",
    "\n",
    "Hence, it can be concluded that the deployed model isn't reliable in predicting the outcome of the bank marketing campaign."
   ]
  },
  {
   "cell_type": "markdown",
   "metadata": {},
   "source": [
    "Next, I would proceed to further preparing the data for use in creating a potentially better model."
   ]
  },
  {
   "cell_type": "markdown",
   "metadata": {},
   "source": [
    "**Pre-modeling data preparation**"
   ]
  },
  {
   "cell_type": "markdown",
   "metadata": {},
   "source": [
    "At this point a decision has to be made about an appropriate approach to modelling the data.\n",
    "\n",
    "As the response variable is binary, a useful starting point is a logistic regression.\n",
    "\n",
    "To do this, we first need to convert the categorical variables into numeric type variables.\n",
    "\n",
    "I attempt to do this using dummies as follows:"
   ]
  },
  {
   "cell_type": "code",
   "execution_count": 27,
   "metadata": {},
   "outputs": [],
   "source": [
    "# Creating dummies for each categorical variable\n",
    "\n",
    "Job = pd.get_dummies(Marketing_data['job'],drop_first=True)\n",
    "Marital = pd.get_dummies(Marketing_data['marital'],drop_first=True)\n",
    "Education = pd.get_dummies(Marketing_data['education'],drop_first=True)\n",
    "Contact = pd.get_dummies(Marketing_data['contact'],drop_first=True)\n",
    "Month = pd.get_dummies(Marketing_data['month'],drop_first=True)\n",
    "Day_of_week = pd.get_dummies(Marketing_data['day_of_week'],drop_first=True)\n",
    "Poutcome = pd.get_dummies(Marketing_data['poutcome'],drop_first=True)\n",
    "Housing_new = pd.get_dummies(Marketing_data['housing_new'],drop_first=True)\n",
    "Loan_new = pd.get_dummies(Marketing_data['loan_new'],drop_first=True)"
   ]
  },
  {
   "cell_type": "code",
   "execution_count": 28,
   "metadata": {},
   "outputs": [],
   "source": [
    "# Dropping the original categorical variables from the dataset and saving it into a new dataframe\n",
    "\n",
    "Marketing_logreg = Marketing_data.drop(['job','marital','education','contact',\n",
    "                                    'month','day_of_week','poutcome','housing_new',\n",
    "                                    'loan_new'],axis=1)"
   ]
  },
  {
   "cell_type": "code",
   "execution_count": 29,
   "metadata": {},
   "outputs": [],
   "source": [
    "# Adding the dummies to the new dataframe\n",
    "\n",
    "Marketing_logreg = pd.concat([Marketing_logreg,Job,Marital, Education, Contact, Month, Day_of_week,\n",
    "                  Poutcome, Housing_new, Loan_new],axis=1)"
   ]
  },
  {
   "cell_type": "markdown",
   "metadata": {},
   "source": [
    "Finally, I'll drop the initial y variable and model predictions."
   ]
  },
  {
   "cell_type": "code",
   "execution_count": 30,
   "metadata": {},
   "outputs": [],
   "source": [
    "# Dropping initial y and model prediction columns\n",
    "\n",
    "Marketing_logreg.drop(['y','ModelPrediction', 'ModelPrediction2'],axis=1,inplace=True)"
   ]
  },
  {
   "cell_type": "code",
   "execution_count": 31,
   "metadata": {},
   "outputs": [
    {
     "data": {
      "text/html": [
       "<div>\n",
       "<style scoped>\n",
       "    .dataframe tbody tr th:only-of-type {\n",
       "        vertical-align: middle;\n",
       "    }\n",
       "\n",
       "    .dataframe tbody tr th {\n",
       "        vertical-align: top;\n",
       "    }\n",
       "\n",
       "    .dataframe thead th {\n",
       "        text-align: right;\n",
       "    }\n",
       "</style>\n",
       "<table border=\"1\" class=\"dataframe\">\n",
       "  <thead>\n",
       "    <tr style=\"text-align: right;\">\n",
       "      <th></th>\n",
       "      <th>age</th>\n",
       "      <th>campaign</th>\n",
       "      <th>pdays</th>\n",
       "      <th>emp.var.rate</th>\n",
       "      <th>cons.price.idx</th>\n",
       "      <th>cons.conf.idx</th>\n",
       "      <th>euribor3m</th>\n",
       "      <th>nr.employed</th>\n",
       "      <th>y_response</th>\n",
       "      <th>blue-collar</th>\n",
       "      <th>...</th>\n",
       "      <th>mon</th>\n",
       "      <th>thu</th>\n",
       "      <th>tue</th>\n",
       "      <th>wed</th>\n",
       "      <th>nonexistent</th>\n",
       "      <th>success</th>\n",
       "      <th>housing_unknown</th>\n",
       "      <th>housing_yes</th>\n",
       "      <th>loan_unknown</th>\n",
       "      <th>loan_yes</th>\n",
       "    </tr>\n",
       "  </thead>\n",
       "  <tbody>\n",
       "    <tr>\n",
       "      <td>0</td>\n",
       "      <td>56</td>\n",
       "      <td>1</td>\n",
       "      <td>999</td>\n",
       "      <td>1.1</td>\n",
       "      <td>93.994</td>\n",
       "      <td>-36.4</td>\n",
       "      <td>4.857</td>\n",
       "      <td>5191.0</td>\n",
       "      <td>0</td>\n",
       "      <td>0</td>\n",
       "      <td>...</td>\n",
       "      <td>1</td>\n",
       "      <td>0</td>\n",
       "      <td>0</td>\n",
       "      <td>0</td>\n",
       "      <td>1</td>\n",
       "      <td>0</td>\n",
       "      <td>0</td>\n",
       "      <td>0</td>\n",
       "      <td>0</td>\n",
       "      <td>0</td>\n",
       "    </tr>\n",
       "    <tr>\n",
       "      <td>1</td>\n",
       "      <td>57</td>\n",
       "      <td>1</td>\n",
       "      <td>999</td>\n",
       "      <td>1.1</td>\n",
       "      <td>93.994</td>\n",
       "      <td>-36.4</td>\n",
       "      <td>4.857</td>\n",
       "      <td>5191.0</td>\n",
       "      <td>0</td>\n",
       "      <td>0</td>\n",
       "      <td>...</td>\n",
       "      <td>1</td>\n",
       "      <td>0</td>\n",
       "      <td>0</td>\n",
       "      <td>0</td>\n",
       "      <td>1</td>\n",
       "      <td>0</td>\n",
       "      <td>0</td>\n",
       "      <td>0</td>\n",
       "      <td>0</td>\n",
       "      <td>0</td>\n",
       "    </tr>\n",
       "    <tr>\n",
       "      <td>2</td>\n",
       "      <td>37</td>\n",
       "      <td>1</td>\n",
       "      <td>999</td>\n",
       "      <td>1.1</td>\n",
       "      <td>93.994</td>\n",
       "      <td>-36.4</td>\n",
       "      <td>4.857</td>\n",
       "      <td>5191.0</td>\n",
       "      <td>0</td>\n",
       "      <td>0</td>\n",
       "      <td>...</td>\n",
       "      <td>1</td>\n",
       "      <td>0</td>\n",
       "      <td>0</td>\n",
       "      <td>0</td>\n",
       "      <td>1</td>\n",
       "      <td>0</td>\n",
       "      <td>0</td>\n",
       "      <td>1</td>\n",
       "      <td>0</td>\n",
       "      <td>0</td>\n",
       "    </tr>\n",
       "    <tr>\n",
       "      <td>3</td>\n",
       "      <td>40</td>\n",
       "      <td>1</td>\n",
       "      <td>999</td>\n",
       "      <td>1.1</td>\n",
       "      <td>93.994</td>\n",
       "      <td>-36.4</td>\n",
       "      <td>4.857</td>\n",
       "      <td>5191.0</td>\n",
       "      <td>0</td>\n",
       "      <td>0</td>\n",
       "      <td>...</td>\n",
       "      <td>1</td>\n",
       "      <td>0</td>\n",
       "      <td>0</td>\n",
       "      <td>0</td>\n",
       "      <td>1</td>\n",
       "      <td>0</td>\n",
       "      <td>0</td>\n",
       "      <td>0</td>\n",
       "      <td>0</td>\n",
       "      <td>0</td>\n",
       "    </tr>\n",
       "    <tr>\n",
       "      <td>4</td>\n",
       "      <td>56</td>\n",
       "      <td>1</td>\n",
       "      <td>999</td>\n",
       "      <td>1.1</td>\n",
       "      <td>93.994</td>\n",
       "      <td>-36.4</td>\n",
       "      <td>4.857</td>\n",
       "      <td>5191.0</td>\n",
       "      <td>0</td>\n",
       "      <td>0</td>\n",
       "      <td>...</td>\n",
       "      <td>1</td>\n",
       "      <td>0</td>\n",
       "      <td>0</td>\n",
       "      <td>0</td>\n",
       "      <td>1</td>\n",
       "      <td>0</td>\n",
       "      <td>0</td>\n",
       "      <td>0</td>\n",
       "      <td>0</td>\n",
       "      <td>1</td>\n",
       "    </tr>\n",
       "  </tbody>\n",
       "</table>\n",
       "<p>5 rows × 50 columns</p>\n",
       "</div>"
      ],
      "text/plain": [
       "   age  campaign  pdays  emp.var.rate  cons.price.idx  cons.conf.idx  \\\n",
       "0   56         1    999           1.1          93.994          -36.4   \n",
       "1   57         1    999           1.1          93.994          -36.4   \n",
       "2   37         1    999           1.1          93.994          -36.4   \n",
       "3   40         1    999           1.1          93.994          -36.4   \n",
       "4   56         1    999           1.1          93.994          -36.4   \n",
       "\n",
       "   euribor3m  nr.employed  y_response  blue-collar  ...  mon  thu  tue  wed  \\\n",
       "0      4.857       5191.0           0            0  ...    1    0    0    0   \n",
       "1      4.857       5191.0           0            0  ...    1    0    0    0   \n",
       "2      4.857       5191.0           0            0  ...    1    0    0    0   \n",
       "3      4.857       5191.0           0            0  ...    1    0    0    0   \n",
       "4      4.857       5191.0           0            0  ...    1    0    0    0   \n",
       "\n",
       "   nonexistent  success  housing_unknown  housing_yes  loan_unknown  loan_yes  \n",
       "0            1        0                0            0             0         0  \n",
       "1            1        0                0            0             0         0  \n",
       "2            1        0                0            1             0         0  \n",
       "3            1        0                0            0             0         0  \n",
       "4            1        0                0            0             0         1  \n",
       "\n",
       "[5 rows x 50 columns]"
      ]
     },
     "execution_count": 31,
     "metadata": {},
     "output_type": "execute_result"
    }
   ],
   "source": [
    "# Checking to see what the cleaned dataframe looks like\n",
    "\n",
    "Marketing_logreg.head()"
   ]
  },
  {
   "cell_type": "markdown",
   "metadata": {},
   "source": [
    "Now that all the rows of data are numeric, we can go ahead and build a logistic regression model."
   ]
  },
  {
   "cell_type": "markdown",
   "metadata": {},
   "source": [
    "**Building a Logistic Regression model**"
   ]
  },
  {
   "cell_type": "code",
   "execution_count": 32,
   "metadata": {},
   "outputs": [],
   "source": [
    "# Importing the train test split function\n",
    "\n",
    "from sklearn.model_selection import train_test_split"
   ]
  },
  {
   "cell_type": "code",
   "execution_count": 33,
   "metadata": {},
   "outputs": [],
   "source": [
    "# Splitting the data into training and test datasets in a 70:30 ratio\n",
    "\n",
    "X_train, X_test, y_train, y_test = train_test_split(Marketing_logreg.drop('y_response',axis=1), \n",
    "                                                    Marketing_logreg['y_response'], test_size=0.30)"
   ]
  },
  {
   "cell_type": "code",
   "execution_count": 34,
   "metadata": {},
   "outputs": [],
   "source": [
    "# Loading the logistic regression function\n",
    "\n",
    "from sklearn.linear_model import LogisticRegression"
   ]
  },
  {
   "cell_type": "code",
   "execution_count": 35,
   "metadata": {},
   "outputs": [
    {
     "name": "stderr",
     "output_type": "stream",
     "text": [
      "C:\\Users\\eyita\\Anaconda3\\lib\\site-packages\\sklearn\\linear_model\\logistic.py:432: FutureWarning: Default solver will be changed to 'lbfgs' in 0.22. Specify a solver to silence this warning.\n",
      "  FutureWarning)\n"
     ]
    },
    {
     "data": {
      "text/plain": [
       "LogisticRegression(C=1.0, class_weight=None, dual=False, fit_intercept=True,\n",
       "                   intercept_scaling=1, l1_ratio=None, max_iter=100,\n",
       "                   multi_class='warn', n_jobs=None, penalty='l2',\n",
       "                   random_state=None, solver='warn', tol=0.0001, verbose=0,\n",
       "                   warm_start=False)"
      ]
     },
     "execution_count": 35,
     "metadata": {},
     "output_type": "execute_result"
    }
   ],
   "source": [
    "# Creating an instance of a logistic regression model and fitting the training data to it\n",
    "\n",
    "logmodel = LogisticRegression()\n",
    "logmodel.fit(X_train,y_train)"
   ]
  },
  {
   "cell_type": "code",
   "execution_count": 36,
   "metadata": {},
   "outputs": [],
   "source": [
    "# Creating predictions for the test data set\n",
    "\n",
    "logreg_predictions = logmodel.predict(X_test)"
   ]
  },
  {
   "cell_type": "markdown",
   "metadata": {},
   "source": [
    "**Evaluating performance of the Logistic Regression model**"
   ]
  },
  {
   "cell_type": "code",
   "execution_count": 37,
   "metadata": {},
   "outputs": [
    {
     "name": "stdout",
     "output_type": "stream",
     "text": [
      "              precision    recall  f1-score   support\n",
      "\n",
      "           0       0.91      0.99      0.95     10981\n",
      "           1       0.71      0.19      0.29      1376\n",
      "\n",
      "    accuracy                           0.90     12357\n",
      "   macro avg       0.81      0.59      0.62     12357\n",
      "weighted avg       0.88      0.90      0.87     12357\n",
      "\n"
     ]
    }
   ],
   "source": [
    "# Printing the classification report\n",
    "\n",
    "print(classification_report(y_test,logreg_predictions))"
   ]
  },
  {
   "cell_type": "code",
   "execution_count": 46,
   "metadata": {},
   "outputs": [
    {
     "name": "stdout",
     "output_type": "stream",
     "text": [
      "[[10875   106]\n",
      " [ 1120   256]]\n"
     ]
    }
   ],
   "source": [
    "# Printing the confusion matrix\n",
    "\n",
    "print(confusion_matrix(y_test,logreg_predictions))"
   ]
  },
  {
   "cell_type": "code",
   "execution_count": 50,
   "metadata": {},
   "outputs": [
    {
     "name": "stdout",
     "output_type": "stream",
     "text": [
      "0.9007849801731812\n"
     ]
    }
   ],
   "source": [
    "# Estimating classification accuracy: percentage of correct predictions\n",
    "\n",
    "print(metrics.accuracy_score(y_test,logreg_predictions))"
   ]
  },
  {
   "cell_type": "code",
   "execution_count": 51,
   "metadata": {},
   "outputs": [
    {
     "data": {
      "text/plain": [
       "0.88864611151574"
      ]
     },
     "execution_count": 51,
     "metadata": {},
     "output_type": "execute_result"
    }
   ],
   "source": [
    "# Estimating null accuracy value\n",
    "\n",
    "max(y_test.mean(), 1 - y_test.mean())"
   ]
  },
  {
   "cell_type": "markdown",
   "metadata": {},
   "source": [
    "Similar to the deployed model, the logistic regression also has a very low accuracy score. In contrast, however, it has a higher precision value of 0.71, but a much lower recall value of 0.19. Overall, the logistic regression has a higher f1-score of 0.29, which is still very low but may make the model preferable to the deployed model."
   ]
  }
 ],
 "metadata": {
  "kernelspec": {
   "display_name": "Python 3",
   "language": "python",
   "name": "python3"
  },
  "language_info": {
   "codemirror_mode": {
    "name": "ipython",
    "version": 3
   },
   "file_extension": ".py",
   "mimetype": "text/x-python",
   "name": "python",
   "nbconvert_exporter": "python",
   "pygments_lexer": "ipython3",
   "version": "3.7.4"
  }
 },
 "nbformat": 4,
 "nbformat_minor": 2
}
